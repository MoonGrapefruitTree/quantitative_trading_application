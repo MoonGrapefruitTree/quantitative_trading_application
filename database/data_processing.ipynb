{
 "cells": [
  {
   "cell_type": "code",
   "execution_count": 1,
   "outputs": [
    {
     "name": "stdout",
     "output_type": "stream",
     "text": [
      "['R_SecuCode', 'CompanyCode', 'Comcd', 'Stkcd', 'Listedstate', 'Csrciccd1', 'Csrciccd2', 'Date', 'PrevClPr', 'Oppr', 'Hipr', 'Lopr', 'Clpr', 'AdjClpr1', 'AdjClpr2', 'Trdvol', 'Trdsum', 'Dampltd', 'DFulTurnR', 'DTrdTurnR', 'Capchgdt', 'Comstateshr', 'Comlpshr', 'Fullshr', 'Trdshr', 'Lsttrdshr', 'Dret', 'Daret', 'PE', 'PB', 'PCF', 'PS', 'EPS', 'ROE', 'AccumFundPS', 'OpPrfPS', 'NAPS', 'NAPSadj', 'IncomePS', 'NCFfropePS'] ['证券代码', '公司代码', '上市公司代码', '股票代码', '上市状态', '证监会行业门类代码', '证监会行业大类代码', '日期', '前收盘价', '开盘价', '最高价', '最低价', '收盘价', '复权价1(元)', '复权价2(元)', '成交量', '成交金额', '日振幅(%)', '总股数日换手率(%)', '流通股日换手率(%)', '股数变动日', '公司国有股', '公司法人股', '总股数', '流通股', '已上市流通股', '日收益率', '日资本收益率', '市盈率', '市净率', '市现率', '市销率', '每股收益(摊薄)(元/股)', '净资产收益率(摊薄)', '每股公积金(元/股)', '每股营业利润(元/股)', '每股净资产(元/股)', '调整后每股净资产(元/股)', '每股营业收入', '每股经营活动现金流量净额(元/股)']\n"
     ]
    }
   ],
   "source": [
    "###获得每一列的名字\n",
    "\n",
    "name_path='E:/dataset/stockdata/20210101-20220930/name.txt'\n",
    "name_file = open(name_path,'r',encoding='utf8')\n",
    "names=name_file.read()\n",
    "name_file.close()\n",
    "\n",
    "names=names.split(',')\n",
    "names=names[0:-1]\n",
    "colName,remarks=[],[]\n",
    "for name in names:\n",
    "    nameLst=name.split('_')\n",
    "    colName.append(nameLst[1])\n",
    "    remarks.append(nameLst[0])\n",
    "colName[0]='R_SecuCode'\n",
    "\n",
    "print(colName,remarks)"
   ],
   "metadata": {
    "collapsed": false,
    "pycharm": {
     "name": "#%%\n"
    }
   }
  },
  {
   "cell_type": "code",
   "execution_count": 2,
   "outputs": [],
   "source": [
    "#####获得每一句insert 语句\n",
    "\n",
    "sqls_insert_sdata=[]\n",
    "\n",
    "for i in range(0,19):\n",
    "    data_path='E:/dataset/stockdata/20210101-20220930/RESSET_DRESSTK_2021__'\n",
    "    skipFirst = True\n",
    "    data_path = data_path+ str(i+1)+\".csv\"\n",
    "    for line in open(data_path,'r',encoding='utf8'):\n",
    "        if skipFirst:\n",
    "            skipFirst = False\n",
    "            continue\n",
    "        data = line.replace('\"','').replace('\\n','').split(',')\n",
    "        sql_insert_sdata = \"insert into comprehensive_Sdata value(\"\n",
    "        sql_insert_sdata =sql_insert_sdata+str(data).replace('[','').replace(']','').replace('\\'\\'','NULL')+\");\"\n",
    "        sqls_insert_sdata.append(sql_insert_sdata)\n"
   ],
   "metadata": {
    "collapsed": false,
    "pycharm": {
     "name": "#%%\n"
    }
   }
  },
  {
   "cell_type": "code",
   "execution_count": 3,
   "outputs": [
    {
     "data": {
      "text/plain": "1854550"
     },
     "execution_count": 3,
     "metadata": {},
     "output_type": "execute_result"
    }
   ],
   "source": [
    "len(sqls_insert_sdata)"
   ],
   "metadata": {
    "collapsed": false,
    "pycharm": {
     "name": "#%%\n"
    }
   }
  },
  {
   "cell_type": "code",
   "execution_count": 4,
   "outputs": [],
   "source": [
    "import pymysql\n",
    "import time\n",
    "import logging\n",
    "import os\n",
    "\n",
    "def get_debug_logger(file_log,name):\n",
    "    if not os.path.exists(file_log):\n",
    "        os.makedirs(file_log)\n",
    "    # 获取logger对象,取名mylog\n",
    "    logger = logging.getLogger(name)\n",
    "    # 输出DEBUG及以上级别的信息，针对所有输出的第一层过滤\n",
    "    logger.setLevel(logging.DEBUG)\n",
    "    # 获取文件日志句柄并设置日志级别，第二层过滤\n",
    "    handler = logging.FileHandler(file_log)\n",
    "    handler.setLevel(logging.DEBUG)\n",
    "    # 生成并设置文件日志格式，其中name为上面设置的mylog\n",
    "    formatter = logging.Formatter('%(asctime)s - %(name)s - %(levelname)s - %(message)s')\n",
    "    handler.setFormatter(formatter)\n",
    "    logger.addHandler(handler)\n",
    "    return logger\n",
    "def get_error_logger(file_log,name):\n",
    "    if not os.path.exists(file_log):\n",
    "        os.makedirs(file_log)\n",
    "    # 获取logger对象,取名mylog\n",
    "    logger = logging.getLogger(name)\n",
    "    # 输出DEBUG及以上级别的信息，针对所有输出的第一层过滤\n",
    "    logger.setLevel(logging.ERROR)\n",
    "    # 获取文件日志句柄并设置日志级别，第二层过滤\n",
    "    handler = logging.FileHandler(file_log)\n",
    "    handler.setLevel(logging.ERROR)\n",
    "    # 生成并设置文件日志格式，其中name为上面设置的mylog\n",
    "    formatter = logging.Formatter('%(asctime)s - %(name)s - %(levelname)s - %(message)s')\n",
    "    handler.setFormatter(formatter)\n",
    "    logger.addHandler(handler)\n",
    "    return logger\n",
    "def get_logger():\n",
    "    date=time.localtime(time.time())\n",
    "    num_logs=0\n",
    "    logs_path = './log/logs'\n",
    "    logs_path=logs_path+\"/log_%d_%d_%d_%d\"%(date[0],date[1],date[2],num_logs)+\".txt\"\n",
    "    # num_errors=0\n",
    "    # errors_path = './log/errors'\n",
    "    # errors_path=errors_path+\"/error_%d_%d_%d_%d\"%(date[0],date[1],date[2],num_errors)+\".txt\"\n",
    "\n",
    "    logger = get_debug_logger(logs_path,\"logs\")\n",
    "    return logger"
   ],
   "metadata": {
    "collapsed": false,
    "pycharm": {
     "name": "#%%\n"
    }
   }
  },
  {
   "cell_type": "code",
   "execution_count": 11,
   "outputs": [],
   "source": [
    "#####数据导入数据库\n",
    "db = pymysql.connect(host='localhost',\n",
    "                     user='qauser',\n",
    "                     password='123456',\n",
    "                     database='qadata',\n",
    "                     charset='utf8')\n",
    "# logger = get_logger()\n",
    "\n",
    "\n",
    "\n",
    "cur = db.cursor()\n",
    "start = time.time()\n",
    "for sql in sqls_insert_sdata:\n",
    "    # try :\n",
    "    cur.execute(sql)\n",
    "    db.commit()\n",
    "        # logger.info(\"SUCESS\")\n",
    "    # except Exception as err:\n",
    "        # logger.error(\"data:\"+sql+\" REASON:\"+err)\n",
    "\n",
    "\n"
   ],
   "metadata": {
    "collapsed": false,
    "pycharm": {
     "name": "#%%\n"
    }
   }
  },
  {
   "cell_type": "code",
   "execution_count": 14,
   "outputs": [
    {
     "name": "stdout",
     "output_type": "stream",
     "text": [
      "((1854550,),)\n"
     ]
    }
   ],
   "source": [
    "import pymysql\n",
    "import time\n",
    "import logging\n",
    "import os\n",
    "db = pymysql.connect(host='localhost',\n",
    "                     user='qauser',\n",
    "                     password='123456',\n",
    "                     database='qadata',\n",
    "                     charset='utf8')\n",
    "cur = db.cursor()\n",
    "sql = \"select * from (select Stkcd,count(*) as num,max(Date) as flag from comprehensive_Sdata group by Stkcd )as a where flag='2022-09-30' and num >1;\"\n",
    "sql = \"select count(*) from comprehensive_Sdata;\"\n",
    "cur.execute(sql)\n",
    "result = cur.fetchall()\n",
    "print(result)"
   ],
   "metadata": {
    "collapsed": false,
    "pycharm": {
     "name": "#%%\n"
    }
   }
  }
 ],
 "metadata": {
  "kernelspec": {
   "display_name": "Python 3",
   "language": "python",
   "name": "python3"
  },
  "language_info": {
   "codemirror_mode": {
    "name": "ipython",
    "version": 2
   },
   "file_extension": ".py",
   "mimetype": "text/x-python",
   "name": "python",
   "nbconvert_exporter": "python",
   "pygments_lexer": "ipython2",
   "version": "2.7.6"
  }
 },
 "nbformat": 4,
 "nbformat_minor": 0
}